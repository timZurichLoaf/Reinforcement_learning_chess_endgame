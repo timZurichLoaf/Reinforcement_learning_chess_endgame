{
 "cells": [
  {
   "cell_type": "markdown",
   "id": "02944396",
   "metadata": {},
   "source": [
    "# Mastering Chess Endgames w/ RL: Q-learing\n",
    "Zheng LUO (21-738-901)"
   ]
  },
  {
   "cell_type": "code",
   "execution_count": 1,
   "id": "c9652bc6",
   "metadata": {},
   "outputs": [],
   "source": [
    "# Import \n",
    "\n",
    "import numpy as np\n",
    "import matplotlib.pyplot as plt\n",
    "from degree_freedom_queen import *\n",
    "from degree_freedom_king1 import *\n",
    "from degree_freedom_king2 import *\n",
    "from generate_game import *\n",
    "from Chess_env import *\n",
    "\n",
    "from chess_vis import * # helper functions for visualization\n",
    "\n",
    "import pandas as pd\n",
    "\n",
    "\n",
    "size_board = 4"
   ]
  },
  {
   "cell_type": "markdown",
   "id": "0bceca7c",
   "metadata": {},
   "source": [
    "## The Environment\n",
    "\n",
    "You can find the environment in the file Chess_env, which contains the class Chess_env. To define an object, you need to provide the board size considered as input. In our example, size_board=4. \n",
    "Chess_env is composed by the following methods:\n",
    "\n",
    "1. Initialise_game. The method initialises an episode by placing the three pieces considered (Agent's king and queen, enemy's king) in the chess board. The outputs of the method are described below in order.\n",
    "\n",
    "     S $\\;$ A matrix representing the board locations filled with 4 numbers: 0, no piece in that position; 1, location of the \n",
    "     agent's king; 2 location of the queen; 3 location of the enemy king.\n",
    "     \n",
    "     X $\\;$ The features, that is the input to the neural network. See the assignment for more information regarding the            definition of the features adopted. To personalise this, go into the Features method of the class Chess_env() and change        accordingly.\n",
    "     \n",
    "     allowed_a $\\;$ The allowed actions that the agent can make. The agent is moving a king, with a total number of 8                possible actions, and a queen, with a total number of $(board_{size}-1)\\times 8$ actions. The total number of possible actions correspond      to the sum of the two, but not all actions are allowed in a given position (movements to locations outside the borders or      against chess rules). Thus, the variable allowed_a is a vector that is one (zero) for an action that the agent can (can't)      make. Be careful, apply the policy considered on the actions that are allowed only.\n",
    "     \n",
    "\n",
    "2. OneStep. The method performs a one step update of the system. Given as input the action selected by the agent, it updates the chess board by performing that action and the response of the enemy king (which is a random allowed action in the settings considered). The first three outputs are the same as for the Initialise_game method, but the variables are computed for the position reached after the update of the system. The fourth and fifth outputs are:\n",
    "\n",
    "     R $\\;$ The reward. To change this, look at the OneStep method of the class where the rewards are set.\n",
    "     \n",
    "     Done $\\;$ A variable that is 1 if the episode has ended (checkmate or draw).\n",
    "     \n",
    "     \n",
    "3. Features. Given the chessboard position, the method computes the features.\n",
    "\n",
    "This information and a quick analysis of the class should be all you need to get going. The other functions that the class exploits are uncommented and constitute an example on how not to write a python code. You can take a look at them if you want, but it is not necessary.\n",
    "\n",
    "\n",
    "\n",
    "\n"
   ]
  },
  {
   "cell_type": "code",
   "execution_count": 2,
   "id": "9593a299",
   "metadata": {},
   "outputs": [],
   "source": [
    "## INITIALISE THE ENVIRONMENT\n",
    "\n",
    "env=Chess_Env(size_board)"
   ]
  },
  {
   "cell_type": "markdown",
   "id": "1a6131ce",
   "metadata": {},
   "source": [
    "## OOD Neural Network Implementation\n",
    "\n",
    "Implement the forward-feed mechanism and the back-propagation of an one-hidden layer neural network in object oriented fashion"
   ]
  },
  {
   "cell_type": "code",
   "execution_count": 3,
   "id": "cef1b0a7",
   "metadata": {},
   "outputs": [],
   "source": [
    "# OOD ANN implementation\n",
    "class ANN: # ANN object w/ 1 hidden layer w/ 200 units by default\n",
    "    \n",
    "    def __init__(self, N_in = 58, N_a = 32, random_seed = None, act1 = 'Relu', act2 = 'Relu'): # constructor w/ the size of input, the size of output and random_seed as optional parameters\n",
    "        self.N_h=200                ## NUMBER OF HIDDEN NODES (A NETWORK WITH ONE HIDDEN LAYER WITH SIZE 200)\n",
    "\n",
    "        ### Random seed\n",
    "        if random_seed != None:\n",
    "            np.random.seed(random_seed)\n",
    "\n",
    "        ### Xavier initialization\n",
    "        self.W1 = np.random.randn(self.N_h, N_in) * np.sqrt(1 / (N_in)) # input layer, of shape (200, 58)\n",
    "        self.W2 = np.random.randn(N_a, self.N_h) * np.sqrt(1 / (self.N_h)) # hidden layer, of shape (32, 200)\n",
    "        \n",
    "\n",
    "        self.b1 = np.zeros((self.N_h,)) # of size 200\n",
    "        self.b2 = np.zeros((N_a,)) # of size 32\n",
    "\n",
    "        ### Parameterize the choices of activation functions\n",
    "        self.act1 = 1 if act1 == 'Relu' else 2\n",
    "        self.act2 = 1 if act2 == 'Relu' else 2\n",
    "        self.act2 = 3 if act2 == 'Sigmoid' else self.act2\n",
    "\n",
    "        ### Initiate neurons and activations\n",
    "        self.z1 = np.zeros((self.N_h,))\n",
    "        self.a1 = np.zeros((self.N_h,))\n",
    "        self.z2 = np.zeros((N_a,))\n",
    "        self.a2 = np.zeros((N_a,))\n",
    "\n",
    "    def forwardfeed(self, X):\n",
    "        ## Forwardfeed\n",
    "        ## input -> hidden\n",
    "        self.z1 = self.W1 @ X + self.b1 # of size 200\n",
    "        \n",
    "        self.a1 = self.relu(self.z1) if self.act1 == 1 else self.z1\n",
    "\n",
    "        ## hidden -> output\n",
    "        self.z2 = self.W2 @ self.a1 + self.b2 # of size 32\n",
    "        \n",
    "        if self.act2 == 3: # sigmoid activation\n",
    "            self.a2 = self.sigmoid(self.z2)\n",
    "        else:\n",
    "            self.a2 = self.relu(self.z2) if self.act2 == 1 else self.z2 # of size 32\n",
    "        return self.a2\n",
    "\n",
    "    def relu(self, x): # rectified linear unit activation to cope w/ vanishing gradient\n",
    "        return (x > 0).astype(int) * x\n",
    "\n",
    "    def sigmoid(self, x): # sigmoid activation function\n",
    "        return 1 / (1 + np.exp(-x))\n",
    "\n",
    "    def backpropagation(self, X, delta, a_agent, eta):\n",
    "        ## Backpropagation\n",
    "        ## Gradients\n",
    "        dz1, dz2 = self.calc_gradient(delta, a_agent)\n",
    "        \n",
    "        ## Descent (update)\n",
    "        self.W2[a_agent, :] = self.W2[a_agent, :] + eta * dz2  * self.a1\n",
    "        self.b2[a_agent] = self.b2[a_agent] + eta * dz2\n",
    "\n",
    "        self.W1 = self.W1 + eta * np.outer(dz1, X)\n",
    "        self.b1 = self.b1 + eta * dz1\n",
    "\n",
    "        return self.W1, self.W2\n",
    "\n",
    "    def calc_gradient(self, delta, a_agent):\n",
    "        ## Gradients\n",
    "        if self.act2 == 3: # sigmoid activation\n",
    "            dz2 = delta * self.sigmoid_dev(self.a2[a_agent])\n",
    "        else:\n",
    "            dz2 = delta * self.heavy_side(self.a2[a_agent]) if self.act2 == 1 else delta # of size 1\n",
    "\n",
    "        dz1 = delta * self.W2[a_agent, :] * self.heavy_side(self.a1) if self.act1 == 1 else dz2 * self.W2[a_agent, :] * self.a1 # of size 200\n",
    "        return dz1, dz2\n",
    "    \n",
    "\n",
    "    def heavy_side(self, x): # pseudo derivative of ReLu\n",
    "        return (x > 0).astype(int)\n",
    "\n",
    "    def sigmoid_dev(self, x): # derivative of sigmoid\n",
    "        return x * (1 - x)        \n",
    "\n",
    "    def load_weights(self, W1, W2, b1, b2): # load trained model\n",
    "        self.W1 = W1\n",
    "        self.W2 = W2\n",
    "        self.b1 = b1.flatten()\n",
    "        self.b2 = b2.flatten()\n"
   ]
  },
  {
   "cell_type": "code",
   "execution_count": 4,
   "id": "fb584eed",
   "metadata": {},
   "outputs": [],
   "source": [
    "# define e-greedy policy, given a list of Q-values and a scalar \\epsilon\n",
    "def EpsilonGreedy_Policy(Qvalues, epsilon):\n",
    "    \n",
    "    N_class= np.shape(Qvalues)[0] # find the # of elements in the vector of Q values\n",
    "\n",
    "    rand_values=np.random.uniform(0,1) # pick a random number from a uniform distribution of [0, 1]\n",
    "\n",
    "    rand_a=rand_values<epsilon # bool indicator if the chosen r.v. is smaller than given epsilon w/ p = epsilon\n",
    "\n",
    "    a= np.zeros(N_class) # prepare an output vector of size N_class\n",
    "\n",
    "    if rand_a==True: # Random exploration\n",
    "\n",
    "        a[np.random.randint(0,N_class)]=1 # assign 1 to a random action uniformly \n",
    "\n",
    "    else: # Greedy\n",
    "\n",
    "        a[np.argmax(Qvalues)]=1 # assign 1 to the action w/ highest Q value\n",
    "    \n",
    "    return a.astype(bool)\n"
   ]
  },
  {
   "cell_type": "markdown",
   "id": "d9a01bd5",
   "metadata": {},
   "source": [
    "## Main reinforcement learning logics"
   ]
  },
  {
   "cell_type": "code",
   "execution_count": 5,
   "id": "ece20429",
   "metadata": {},
   "outputs": [],
   "source": [
    "# INITIALISE THE PARAMETERS OF YOUR NEURAL NETWORK AND...\n",
    "# PLEASE CONSIDER TO USE A MASK OF ONE FOR THE ACTION MADE AND ZERO OTHERWISE IF YOU ARE NOT USING VANILLA GRADIENT DESCENT...\n",
    "# WE SUGGEST A NETWORK WITH ONE HIDDEN LAYER WITH SIZE 200. \n",
    "\n",
    "\n",
    "S,X,allowed_a=env.Initialise_game()\n",
    "\n",
    "\n",
    "N_a=np.shape(allowed_a)[0]   # TOTAL NUMBER OF POSSIBLE ACTIONS\n",
    "\n",
    "N_in=np.shape(X)[0]    ## INPUT SIZE\n",
    "N_h=200                ## NUMBER OF HIDDEN NODES (A NETWORK WITH ONE HIDDEN LAYER WITH SIZE 200)\n",
    "\n",
    "\n",
    "## INITALISE YOUR NEURAL NETWORK...\n",
    "\n",
    "nn = ANN(act2 = 'Sigmoid')\n",
    "\n",
    "\n",
    "# HYPERPARAMETERS SUGGESTED (FOR A GRID SIZE OF 4)\n",
    "\n",
    "epsilon_0 = 0.2     # STARTING VALUE OF EPSILON FOR THE EPSILON-GREEDY POLICY\n",
    "beta = 0.00005      # THE PARAMETER SETS HOW QUICKLY THE VALUE OF EPSILON IS DECAYING (SEE epsilon_f BELOW)\n",
    "gamma = 0.85        # THE DISCOUNT FACTOR\n",
    "eta = 0.0035        # THE LEARNING RATE\n",
    "\n",
    "N_episodes = 100000 # THE NUMBER OF GAMES TO BE PLAYED \n",
    "\n",
    "# SAVING VARIABLES\n",
    "R_save = np.zeros([N_episodes, 1])\n",
    "N_moves_save = np.zeros([N_episodes, 1])\n",
    "\n"
   ]
  },
  {
   "cell_type": "markdown",
   "id": "5c54bb97",
   "metadata": {},
   "source": [
    "### Training loop of Q-learning"
   ]
  },
  {
   "cell_type": "code",
   "execution_count": 82,
   "id": "e6ba1f84",
   "metadata": {},
   "outputs": [
    {
     "name": "stdout",
     "output_type": "stream",
     "text": [
      "e-Greedy agent w/ 1QN Q-learning, Average reward: 0.86206 Number of steps:  11.23885\n"
     ]
    }
   ],
   "source": [
    "# TRAINING LOOP BONE STRUCTURE...\n",
    "\n",
    "# Activation function\n",
    "# act1 = 'Relu'\n",
    "# act2 = 'Sigmoid'\n",
    "\n",
    "for n in range(N_episodes):\n",
    "\n",
    "    epsilon_f = epsilon_0 / (1 + beta * n)   ## DECAYING EPSILON\n",
    "    Done=0                                   ## SET DONE TO ZERO (BEGINNING OF THE EPISODE)\n",
    "    i = 1                                    ## COUNTER FOR NUMBER OF ACTIONS\n",
    "    \n",
    "    S,X,allowed_a=env.Initialise_game()      ## INITIALISE GAME\n",
    "\n",
    "\n",
    "    while Done==0:                           ## START THE EPISODE\n",
    "\n",
    "        # Choose action A (w/o taking it actually)\n",
    "        ## pre-action meditation\n",
    "        a,_=np.where(allowed_a==1) # find allowed actions\n",
    "        \n",
    "        ## find Q-values\n",
    "        Qvalues = nn.forwardfeed(X)\n",
    "        Qvalues_of_allowed_a = Qvalues[a]\n",
    "\n",
    "        ## Given Q-values, pick an action in an e-Greedy way\n",
    "        \n",
    "        a_agent = a[EpsilonGreedy_Policy(Qvalues_of_allowed_a, epsilon_f)][0] # idx of the chosen action\n",
    "\n",
    "        q = np.copy(Qvalues[a_agent])\n",
    "\n",
    "        # take the action A & observe\n",
    "        S_next,X_next,allowed_a_next,R,Done=env.OneStep(a_agent)\n",
    "    \n",
    "        \n",
    "        ## THE EPISODE HAS ENDED, UPDATE...BE CAREFUL, THIS IS THE LAST STEP OF THE EPISODE\n",
    "        if Done==1:\n",
    "            \n",
    "            # Record the reward and moves taken\n",
    "            R_save[n]=np.copy(R)\n",
    "            N_moves_save[n]=np.copy(i)\n",
    "            \n",
    "            # Update Weights\n",
    "            ## Compute the delta\n",
    "            delta = (R - q)\n",
    "            \n",
    "            ## Backpropagation\n",
    "            nn.backpropagation(X, delta, a_agent, eta)\n",
    "\n",
    "            break\n",
    "            \n",
    "        else:\n",
    "            # post-action reflection (choose the next action w/o actually taking it either)\n",
    "            a_next,_=np.where(allowed_a_next==1) # find allowed actions\n",
    "\n",
    "            # Find Qvalues\n",
    "            Qvalues_next = nn.forwardfeed(X_next)\n",
    "\n",
    "            Qvalues_of_allowed_a_next = Qvalues_next[a_next]\n",
    "            a_agent_next = a_next[EpsilonGreedy_Policy(Qvalues_of_allowed_a_next, epsilon_f)][0] # idx of the chosen action\n",
    "\n",
    "            q_new = np.max(Qvalues_next)\n",
    "            \n",
    "            # Update Weights\n",
    "            ## Compute the delta\n",
    "            delta = (R + gamma * q_new - q) # no punishment\n",
    "            \n",
    "            ## Backpropagation\n",
    "            nn.backpropagation(X, delta, a_agent, eta)\n",
    "            \n",
    "            \n",
    "        # NEXT STATE AND CO. BECOME ACTUAL STATE...     \n",
    "        S=np.copy(S_next)\n",
    "        X=np.copy(X_next)\n",
    "        allowed_a=np.copy(allowed_a_next)\n",
    "        \n",
    "        \n",
    "        i += 1  # UPDATE COUNTER FOR NUMBER OF ACTIONS\n",
    "\n",
    "\n",
    "    print_progress(n, N_episodes)\n",
    "\n",
    "print_progress(None, N_episodes)\n",
    "\n",
    "print('e-Greedy agent w/ 1QN Q-learning, Average reward:',np.mean(R_save),'Number of steps: ',np.mean(N_moves_save))"
   ]
  },
  {
   "cell_type": "code",
   "execution_count": 85,
   "id": "6690bade",
   "metadata": {},
   "outputs": [],
   "source": [
    "# Save trained neural network to file\n",
    "pd.DataFrame(nn.W1).to_csv('Q_W1.csv') # trained w/ Q-learning and default hyperparameters for 100k episodes\n",
    "pd.DataFrame(nn.W2).to_csv('Q_W2.csv')\n",
    "pd.DataFrame(nn.b1).to_csv('Q_b1.csv')\n",
    "pd.DataFrame(nn.b2).to_csv('Q_b2.csv')\n",
    "pd.DataFrame(R_save).to_csv('Q_100k_r.csv')\n",
    "pd.DataFrame(N_moves_save).to_csv('Q_100k_n.csv')"
   ]
  },
  {
   "cell_type": "markdown",
   "id": "b8304905",
   "metadata": {},
   "source": [
    "## Visualization of training results"
   ]
  },
  {
   "cell_type": "code",
   "execution_count": 6,
   "id": "3125200a",
   "metadata": {},
   "outputs": [],
   "source": [
    "# load the trained weights\n",
    "\n",
    "nn = ANN(act2 = 'Sigmoid')\n",
    "\n",
    "nn.W1 = pd.read_csv('Q_W1.csv').to_numpy()[:, 1:] \n",
    "nn.W2 = pd.read_csv('Q_W2.csv').to_numpy()[:, 1:]\n",
    "nn.b1 = pd.read_csv('Q_b1.csv').to_numpy()[:, 1:].flatten()\n",
    "nn.b2 = pd.read_csv('Q_b2.csv').to_numpy()[:, 1:].flatten()\n",
    "R_save = pd.read_csv('Q_r.csv').to_numpy()[:, 1:].flatten()\n",
    "N_moves_save = pd.read_csv('Q_n.csv').to_numpy()[:, 1:].flatten()"
   ]
  },
  {
   "cell_type": "code",
   "execution_count": 20,
   "id": "e0e09554",
   "metadata": {},
   "outputs": [
    {
     "data": {
      "text/plain": [
       "<matplotlib.legend.Legend at 0x7faa6c1c9400>"
      ]
     },
     "execution_count": 20,
     "metadata": {},
     "output_type": "execute_result"
    },
    {
     "data": {
      "image/png": "[encoded data removed]",
      "text/plain": [
       "<Figure size 576x288 with 2 Axes>"
      ]
     },
     "metadata": {
      "needs_background": "light"
     },
     "output_type": "display_data"
    }
   ],
   "source": [
    "# plot moves per game and rewards in the same figure\n",
    "fig, ax = plt.subplots(1, 1, figsize = (8, 4), constrained_layout = True)\n",
    "ax_dup = ax.twinx()\n",
    "er = exp_ma(N_moves_save, 2000, x_label = 'Episodes played', y_label = 'Moves per game', title = 'Q-learning', ax = ax, label = 'EMA Moves per game')\n",
    "em = exp_ma(R_save, 2000, x_label = 'Episodes played', y_label = 'Rewards', ax = ax_dup, color = 'r', label = 'EMA Rewards')\n",
    "fig.legend(loc=[0.67, 0.15])"
   ]
  },
  {
   "cell_type": "code",
   "execution_count": 94,
   "id": "3dc1e07e",
   "metadata": {},
   "outputs": [
    {
     "data": {
      "image/png": "[encoded data removed]",
      "text/plain": [
       "<Figure size 576x288 with 1 Axes>"
      ]
     },
     "metadata": {
      "needs_background": "light"
     },
     "output_type": "display_data"
    }
   ],
   "source": [
    "e = exp_ma(N_moves_save, 2000, y_label = 'Moves per game', title = 'EMA of Moves per game')"
   ]
  },
  {
   "cell_type": "code",
   "execution_count": 95,
   "id": "e0c0a388",
   "metadata": {},
   "outputs": [
    {
     "data": {
      "image/png": "[encoded data removed]",
      "text/plain": [
       "<Figure size 576x288 with 1 Axes>"
      ]
     },
     "metadata": {
      "needs_background": "light"
     },
     "output_type": "display_data"
    }
   ],
   "source": [
    "e = exp_ma(R_save, 2000, y_label = 'Rewards', title = 'EMA of Rewards')"
   ]
  },
  {
   "cell_type": "markdown",
   "id": "88a4247f",
   "metadata": {},
   "source": [
    "### Play w/ the trained agent in a Demo case\n",
    "| a \t| b \t| c \t| d \t|\n",
    "|---\t|---\t|---\t|---\t|\n",
    "| 0 \t| 0 \t| 0 \t| 0 \t|\n",
    "| 0 \t| 0 \t| 0 \t| 0 \t|\n",
    "| 1 \t| 0 \t| 3 \t| 0 \t|\n",
    "| 2 \t| 0 \t| 0 \t| 0 \t|"
   ]
  },
  {
   "cell_type": "code",
   "execution_count": 7,
   "id": "aaf70d4f",
   "metadata": {},
   "outputs": [
    {
     "name": "stdout",
     "output_type": "stream",
     "text": [
      "Checkmate in 3 moves!\n"
     ]
    }
   ],
   "source": [
    "# play a demo game\n",
    "\n",
    "Done=0                                   ## SET DONE TO ZERO (BEGINNING OF THE EPISODE)\n",
    "i = 1                                    ## COUNTER FOR NUMBER OF ACTIONS\n",
    "\n",
    "env=Chess_Env(size_board) # reset the env\n",
    "\n",
    "S,X,allowed_a = demo_initialise_game(env, trans('a2'), trans('a1'), trans('c2'))     ## INITIALISE A demo GAME\n",
    "\n",
    "S_list = [np.copy(S)] # store the initial game status\n",
    "\n",
    "# print_board(S) # print the board\n",
    "\n",
    "while Done==0:                           ## START THE EPISODE\n",
    "    \n",
    "    # pre-action meditation\n",
    "    \n",
    "    a,_=np.where(allowed_a==1) # find allowed actions\n",
    "    \n",
    "    ## find Q-values\n",
    "    Qvalues = nn.forwardfeed(X)\n",
    "    Qvalues_of_allowed_a = Qvalues[a]\n",
    "\n",
    "    ## Given Q-values, pick an action in a Greedy way\n",
    "    \n",
    "    a_agent = a[EpsilonGreedy_Policy(Qvalues_of_allowed_a, 0.001)][0] # proceed in an almost-greedy manner, w/ epsilon = 0.001 to avoid getting stuck\n",
    "    \n",
    "\n",
    "    # take an action & observe\n",
    "    S,X,allowed_a,R,Done=env.OneStep(a_agent)\n",
    "\n",
    "    # print_board(S, num = i) # print the board\n",
    "\n",
    "    S_list.append(np.copy(S)) # record the updated game status\n",
    "\n",
    "    \n",
    "    ## THE EPISODE HAS ENDED, UPDATE...BE CAREFUL, THIS IS THE LAST STEP OF THE EPISODE\n",
    "    if Done==1:\n",
    "\n",
    "        if R == 1:\n",
    "            print (f'Checkmate in {i} moves!')\n",
    "        else:\n",
    "            print (f'Draw in {i} moves...')\n",
    "        \n",
    "        break\n",
    "\n",
    "\n",
    "    i += 1  # UPDATE COUNTER FOR NUMBER OF ACTIONS\n"
   ]
  },
  {
   "cell_type": "code",
   "execution_count": 8,
   "id": "b182b5a2",
   "metadata": {},
   "outputs": [
    {
     "data": {
      "image/png": "[encoded data removed]",
      "text/plain": [
       "<Figure size 360x360 with 1 Axes>"
      ]
     },
     "metadata": {
      "needs_background": "light"
     },
     "output_type": "display_data"
    }
   ],
   "source": [
    "# visualize the initial game setup\n",
    "S,X,allowed_a = demo_initialise_game(env, trans('a2'), trans('a1'), trans('c2'))\n",
    "print_board(S)"
   ]
  },
  {
   "cell_type": "code",
   "execution_count": 9,
   "id": "0da538ea",
   "metadata": {},
   "outputs": [
    {
     "data": {
      "image/png": "[encoded data removed]",
      "text/plain": [
       "<Figure size 648x288 with 3 Axes>"
      ]
     },
     "metadata": {
      "needs_background": "light"
     },
     "output_type": "display_data"
    }
   ],
   "source": [
    "# visualize first 3 moves\n",
    "fig, axs = plt.subplots(1, 3, figsize = (9, 4), constrained_layout = True)\n",
    "for i in range(3):\n",
    "    row = int(i / 3)\n",
    "    col = i % 3\n",
    "    print_board(S_list[i+1], i+1, ax = axs[col])"
   ]
  }
 ],
 "metadata": {
  "kernelspec": {
   "display_name": "Python 3 (ipykernel)",
   "language": "python",
   "name": "python3"
  },
  "language_info": {
   "codemirror_mode": {
    "name": "ipython",
    "version": 3
   },
   "file_extension": ".py",
   "mimetype": "text/x-python",
   "name": "python",
   "nbconvert_exporter": "python",
   "pygments_lexer": "ipython3",
   "version": "3.8.8"
  }
 },
 "nbformat": 4,
 "nbformat_minor": 5
}
